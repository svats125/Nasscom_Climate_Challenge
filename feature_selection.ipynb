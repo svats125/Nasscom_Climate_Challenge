{
  "nbformat": 4,
  "nbformat_minor": 0,
  "metadata": {
    "colab": {
      "provenance": []
    },
    "kernelspec": {
      "name": "python3",
      "display_name": "Python 3"
    },
    "language_info": {
      "name": "python"
    }
  },
  "cells": [
    {
      "cell_type": "code",
      "execution_count": 1,
      "metadata": {
        "colab": {
          "base_uri": "https://localhost:8080/"
        },
        "id": "whSE-k1xDbP2",
        "outputId": "fc9300d0-39e1-4802-8a33-b15986129d76"
      },
      "outputs": [
        {
          "output_type": "stream",
          "name": "stdout",
          "text": [
            "               Mandal        Date  Rain (mm)  Min_Temp  Max_Temp  \\\n",
            "0      Adilabad Rural  01-01-2018        0.0       9.9      29.4   \n",
            "1      Adilabad Rural  02-01-2018        0.0      11.4      31.1   \n",
            "2      Adilabad Rural  03-01-2018        0.0      10.2      30.7   \n",
            "3      Adilabad Rural  04-01-2018        0.0       9.9      30.5   \n",
            "4      Adilabad Rural  05-01-2018        0.0      10.4      29.0   \n",
            "...               ...         ...        ...       ...       ...   \n",
            "31747           Utnur  27-10-2022        0.0      14.8      31.5   \n",
            "31748           Utnur  28-10-2022        0.0      14.9      31.2   \n",
            "31749           Utnur  29-10-2022        0.0      14.6      30.9   \n",
            "31750           Utnur  30-10-2022        0.0      14.3      31.0   \n",
            "31751           Utnur  31-10-2022        0.0      14.7      30.5   \n",
            "\n",
            "       Min Humidity (%)  Max Humidity (%)  Min Wind Speed (Kmph)  \\\n",
            "0                  23.2              88.1                    0.0   \n",
            "1                  20.0              82.5                    0.0   \n",
            "2                  24.5              85.1                    0.0   \n",
            "3                  24.5              86.4                    0.0   \n",
            "4                  24.2              81.7                    0.0   \n",
            "...                 ...               ...                    ...   \n",
            "31747              32.8              97.6                    0.0   \n",
            "31748              34.8              95.9                    0.0   \n",
            "31749              34.8              99.1                    0.0   \n",
            "31750              35.4              97.2                    0.0   \n",
            "31751              32.8              97.1                    0.0   \n",
            "\n",
            "       Max Wind Speed (Kmph)   SO2  ...  PM 2.5  NH3  Petrol Vehicle  \\\n",
            "0                       19.7   6.1  ...    28.0   21              81   \n",
            "1                       16.2   6.1  ...    28.0   21              81   \n",
            "2                       16.3   6.1  ...    28.0   21              81   \n",
            "3                       15.2   6.1  ...    28.0   21              81   \n",
            "4                       15.4   6.1  ...    28.0   21              81   \n",
            "...                      ...   ...  ...     ...  ...             ...   \n",
            "31747                   10.8  10.9  ...    38.0   21               0   \n",
            "31748                   11.5  10.9  ...    38.0   21               0   \n",
            "31749                   12.1  10.9  ...    38.0   21               0   \n",
            "31750                   12.7  10.9  ...    38.0   21               0   \n",
            "31751                   12.7  10.9  ...    38.0   21               0   \n",
            "\n",
            "       Diesel Vehicle  Electric Vehicle  1-3 seater  4-7 seater  8-20 seater  \\\n",
            "0                  12                 1          85           8            0   \n",
            "1                  12                 1          85           8            0   \n",
            "2                  12                 1          85           8            0   \n",
            "3                  12                 1          85           8            0   \n",
            "4                  12                 1          85           8            0   \n",
            "...               ...               ...         ...         ...          ...   \n",
            "31747               0                 0           0           0            0   \n",
            "31748               0                 0           0           0            0   \n",
            "31749               0                 0           0           0            0   \n",
            "31750               0                 0           0           0            0   \n",
            "31751               0                 0           0           0            0   \n",
            "\n",
            "       20+ seater  AQI  \n",
            "0               0   66  \n",
            "1               0   66  \n",
            "2               0   66  \n",
            "3               0   66  \n",
            "4               0   66  \n",
            "...           ...  ...  \n",
            "31747           0   65  \n",
            "31748           0   65  \n",
            "31749           0   65  \n",
            "31750           0   65  \n",
            "31751           0   65  \n",
            "\n",
            "[31752 rows x 22 columns]\n"
          ]
        }
      ],
      "source": [
        "import pandas as pd\n",
        "from sklearn.preprocessing import MinMaxScaler\n",
        "\n",
        "# Load your dataset\n",
        "df = pd.read_csv(\"/content/adilabad.csv\")\n",
        "\n",
        "print(df)"
      ]
    },
    {
      "cell_type": "code",
      "source": [
        "# Select only the numerical columns you want to standardize\n",
        "numerical_cols = ['Rain (mm)', 'Min_Temp', 'Max_Temp', 'Min Humidity (%)', 'Max Humidity (%)', 'Min Wind Speed (Kmph)', 'Max Wind Speed (Kmph)',\n",
        "                  'SO2','Nox','PM 10','PM 2.5','NH3','Petrol Vehicle','Diesel Vehicle','Electric Vehicle','1-3 seater',\n",
        "                  '4-7 seater','8-20 seater','20+ seater','AQI']\n",
        "\n",
        "# Standardize the numerical columns\n",
        "scaler = MinMaxScaler()\n",
        "df[numerical_cols] = scaler.fit_transform(df[numerical_cols])\n",
        "\n",
        "# Save the standardized dataset to a new file\n",
        "df.to_csv(\"standardized_data.csv\", index=False)\n"
      ],
      "metadata": {
        "id": "NSG8b-LPFaro"
      },
      "execution_count": 2,
      "outputs": []
    },
    {
      "cell_type": "code",
      "source": [
        "df_1 = pd.read_csv(\"standardized_data.csv\")\n",
        "print(df_1)"
      ],
      "metadata": {
        "colab": {
          "base_uri": "https://localhost:8080/"
        },
        "id": "eze5QDPYF3Tp",
        "outputId": "3300d146-b7bf-44ce-f421-e9f5eede3047"
      },
      "execution_count": 3,
      "outputs": [
        {
          "output_type": "stream",
          "name": "stdout",
          "text": [
            "               Mandal        Date  Rain (mm)  Min_Temp  Max_Temp  \\\n",
            "0      Adilabad Rural  01-01-2018        0.0  0.221538  0.411960   \n",
            "1      Adilabad Rural  02-01-2018        0.0  0.267692  0.468439   \n",
            "2      Adilabad Rural  03-01-2018        0.0  0.230769  0.455150   \n",
            "3      Adilabad Rural  04-01-2018        0.0  0.221538  0.448505   \n",
            "4      Adilabad Rural  05-01-2018        0.0  0.236923  0.398671   \n",
            "...               ...         ...        ...       ...       ...   \n",
            "31747           Utnur  27-10-2022        0.0  0.372308  0.481728   \n",
            "31748           Utnur  28-10-2022        0.0  0.375385  0.471761   \n",
            "31749           Utnur  29-10-2022        0.0  0.366154  0.461794   \n",
            "31750           Utnur  30-10-2022        0.0  0.356923  0.465116   \n",
            "31751           Utnur  31-10-2022        0.0  0.369231  0.448505   \n",
            "\n",
            "       Min Humidity (%)  Max Humidity (%)  Min Wind Speed (Kmph)  \\\n",
            "0              0.239841             0.881               0.034247   \n",
            "1              0.208127             0.825               0.034247   \n",
            "2              0.252725             0.851               0.034247   \n",
            "3              0.252725             0.864               0.034247   \n",
            "4              0.249752             0.817               0.034247   \n",
            "...                 ...               ...                    ...   \n",
            "31747          0.334985             0.976               0.034247   \n",
            "31748          0.354807             0.959               0.034247   \n",
            "31749          0.354807             0.991               0.034247   \n",
            "31750          0.360753             0.972               0.034247   \n",
            "31751          0.334985             0.971               0.034247   \n",
            "\n",
            "       Max Wind Speed (Kmph)       SO2  ...    PM 2.5  NH3  Petrol Vehicle  \\\n",
            "0                   0.135471  0.460674  ...  0.090909  1.0        0.364865   \n",
            "1                   0.112565  0.460674  ...  0.090909  1.0        0.364865   \n",
            "2                   0.113220  0.460674  ...  0.090909  1.0        0.364865   \n",
            "3                   0.106021  0.460674  ...  0.090909  1.0        0.364865   \n",
            "4                   0.107330  0.460674  ...  0.090909  1.0        0.364865   \n",
            "...                      ...       ...  ...       ...  ...             ...   \n",
            "31747               0.077225  1.000000  ...  0.545455  1.0        0.000000   \n",
            "31748               0.081806  1.000000  ...  0.545455  1.0        0.000000   \n",
            "31749               0.085733  1.000000  ...  0.545455  1.0        0.000000   \n",
            "31750               0.089660  1.000000  ...  0.545455  1.0        0.000000   \n",
            "31751               0.089660  1.000000  ...  0.545455  1.0        0.000000   \n",
            "\n",
            "       Diesel Vehicle  Electric Vehicle  1-3 seater  4-7 seater  8-20 seater  \\\n",
            "0            0.157895          0.071429    0.346939    0.222222          0.0   \n",
            "1            0.157895          0.071429    0.346939    0.222222          0.0   \n",
            "2            0.157895          0.071429    0.346939    0.222222          0.0   \n",
            "3            0.157895          0.071429    0.346939    0.222222          0.0   \n",
            "4            0.157895          0.071429    0.346939    0.222222          0.0   \n",
            "...               ...               ...         ...         ...          ...   \n",
            "31747        0.000000          0.000000    0.000000    0.000000          0.0   \n",
            "31748        0.000000          0.000000    0.000000    0.000000          0.0   \n",
            "31749        0.000000          0.000000    0.000000    0.000000          0.0   \n",
            "31750        0.000000          0.000000    0.000000    0.000000          0.0   \n",
            "31751        0.000000          0.000000    0.000000    0.000000          0.0   \n",
            "\n",
            "       20+ seater       AQI  \n",
            "0             0.0  0.567568  \n",
            "1             0.0  0.567568  \n",
            "2             0.0  0.567568  \n",
            "3             0.0  0.567568  \n",
            "4             0.0  0.567568  \n",
            "...           ...       ...  \n",
            "31747         0.0  0.540541  \n",
            "31748         0.0  0.540541  \n",
            "31749         0.0  0.540541  \n",
            "31750         0.0  0.540541  \n",
            "31751         0.0  0.540541  \n",
            "\n",
            "[31752 rows x 22 columns]\n"
          ]
        }
      ]
    },
    {
      "cell_type": "code",
      "source": [
        "import pandas as pd\n",
        "from sklearn.preprocessing import StandardScaler\n",
        "from scipy.stats import pearsonr\n",
        "\n",
        "# df_1 = pd.get_dummies(df_1, columns=['Mandal','Date'])\n",
        "# Split the data into features and target variable\n",
        "X = df_1.drop(['AQI','Mandal','Date'], axis=1)\n",
        "y = df_1['AQI']\n",
        "\n",
        "# Calculate the correlation between each feature and the target variable\n",
        "correlations = []\n",
        "for col in X.columns:\n",
        "    correlation, _ = pearsonr(X[col], y)\n",
        "    correlations.append((col, correlation))\n",
        "\n",
        "# Rank the features based on their correlation values\n",
        "correlations.sort(key=lambda x: abs(x[1]), reverse=True)\n",
        "\n",
        "# Select the top N features\n",
        "N = 5\n",
        "selected_features = [x[0] for x in correlations[:N]]\n",
        "\n",
        "# Apply feature scaling to these N features\n",
        "scaler = StandardScaler()\n",
        "X[selected_features] = scaler.fit_transform(X[selected_features])\n"
      ],
      "metadata": {
        "id": "dcSIq-u7bW6s"
      },
      "execution_count": 8,
      "outputs": []
    },
    {
      "cell_type": "code",
      "source": [
        "print(correlations)"
      ],
      "metadata": {
        "colab": {
          "base_uri": "https://localhost:8080/"
        },
        "id": "JhVpKnRfdMKB",
        "outputId": "895ac2a6-270e-4074-d4c3-35b641374081"
      },
      "execution_count": 9,
      "outputs": [
        {
          "output_type": "stream",
          "name": "stdout",
          "text": [
            "[('PM 10', 0.9438332353722985), ('PM 2.5', 0.5623457330701723), ('NH3', -0.3522294102885297), ('Nox', 0.3205828060794532), ('SO2', -0.2561688637681149), ('Electric Vehicle', -0.25154800617542766), ('1-3 seater', 0.1892403342575068), ('Petrol Vehicle', 0.1868936530288925), ('Diesel Vehicle', 0.18143488408838163), ('4-7 seater', 0.1364794493226889), ('Rain (mm)', -0.11957606339959412), ('8-20 seater', 0.11597809178831468), ('Min Humidity (%)', -0.1101140016203242), ('Max Humidity (%)', -0.10812762373478366), ('Min_Temp', -0.08655409268566443), ('Min Wind Speed (Kmph)', 0.05500341677458708), ('20+ seater', 0.0368104363121579), ('Max_Temp', -0.031279821105150124), ('Max Wind Speed (Kmph)', -0.017820751157195322)]\n"
          ]
        }
      ]
    },
    {
      "cell_type": "code",
      "source": [
        "print(selected_features)"
      ],
      "metadata": {
        "id": "9d9gl_sad5SS",
        "colab": {
          "base_uri": "https://localhost:8080/"
        },
        "outputId": "657a2a7e-1797-4161-9ab7-afdeaf0321b9"
      },
      "execution_count": 10,
      "outputs": [
        {
          "output_type": "stream",
          "name": "stdout",
          "text": [
            "['PM 10', 'PM 2.5', 'NH3', 'Nox', 'SO2']\n"
          ]
        }
      ]
    }
  ]
}